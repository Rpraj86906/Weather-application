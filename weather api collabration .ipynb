{
 "cells": [
  {
   "cell_type": "code",
   "execution_count": 1,
   "metadata": {},
   "outputs": [],
   "source": [
    "import tkinter as tk\n",
    "import requests\n",
    "import time\n",
    " "
   ]
  },
  {
   "cell_type": "code",
   "execution_count": 4,
   "metadata": {},
   "outputs": [
    {
     "name": "stderr",
     "output_type": "stream",
     "text": [
      "Exception in Tkinter callback\n",
      "Traceback (most recent call last):\n",
      "  File \"C:\\ProgramData\\Anaconda3\\lib\\tkinter\\__init__.py\", line 1883, in __call__\n",
      "    return self.func(*args)\n",
      "  File \"<ipython-input-4-27cacafd4007>\", line 6, in getWeather\n",
      "    condition = json_data['weather'][0]['main']\n",
      "KeyError: 'weather'\n"
     ]
    }
   ],
   "source": [
    "def getWeather(canvas):\n",
    "    city = textField.get()\n",
    "    api = \"https://api.openweathermap.org/data/2.5/weather?q=\"+city+\"&appid=ca02fd0aab4a5d78257e61867d758a15\"\n",
    "    \n",
    "    json_data = requests.get(api).json()\n",
    "    condition = json_data['weather'][0]['main']\n",
    "    temp = int(json_data['main']['temp'] - 273.15)\n",
    "    min_temp = int(json_data['main']['temp_min'] - 273.15)\n",
    "    max_temp = int(json_data['main']['temp_max'] - 273.15)\n",
    "    pressure = json_data['main']['pressure']\n",
    "    humidity = json_data['main']['humidity']\n",
    "    wind = json_data['wind']['speed']\n",
    "    sunrise = time.strftime('%I:%M:%S', time.gmtime(json_data['sys']['sunrise'] - 21600))\n",
    "    sunset = time.strftime('%I:%M:%S', time.gmtime(json_data['sys']['sunset'] - 21600))\n",
    "\n",
    "    final_info = condition + \"\\n\" + str(temp) + \"°C\" \n",
    "    final_data = \"\\n\"+ \"Min Temp: \" + str(min_temp) + \"°C\" + \"\\n\" + \"Max Temp: \" + str(max_temp) + \"°C\" +\"\\n\" + \"Pressure: \" + str(pressure) + \"\\n\" +\"Humidity: \" + str(humidity) + \"\\n\" +\"Wind Speed: \" + str(wind) + \"\\n\" + \"Sunrise: \" + sunrise + \"\\n\" + \"Sunset: \" + sunset\n",
    "    label1.config(text = final_info)\n",
    "    label2.config(text = final_data)\n",
    "\n",
    "\n",
    "canvas = tk.Tk()\n",
    "canvas.geometry(\"600x500\")\n",
    "canvas.title(\"Weather App\")\n",
    "f = (\"poppins\", 15, \"bold\")\n",
    "t = (\"poppins\", 35, \"bold\")\n",
    "\n",
    "textField = tk.Entry(canvas, justify='center', width = 20, font = t)\n",
    "textField.pack(pady = 20)\n",
    "textField.focus()\n",
    "textField.bind('<Return>', getWeather)\n",
    "\n",
    "label1 = tk.Label(canvas, font=t)\n",
    "label1.pack()\n",
    "label2 = tk.Label(canvas, font=f)\n",
    "label2.pack()\n",
    "canvas.mainloop()"
   ]
  },
  {
   "cell_type": "code",
   "execution_count": null,
   "metadata": {},
   "outputs": [],
   "source": []
  },
  {
   "cell_type": "code",
   "execution_count": null,
   "metadata": {},
   "outputs": [],
   "source": []
  },
  {
   "cell_type": "code",
   "execution_count": null,
   "metadata": {},
   "outputs": [],
   "source": []
  }
 ],
 "metadata": {
  "kernelspec": {
   "display_name": "Python 3",
   "language": "python",
   "name": "python3"
  },
  "language_info": {
   "codemirror_mode": {
    "name": "ipython",
    "version": 3
   },
   "file_extension": ".py",
   "mimetype": "text/x-python",
   "name": "python",
   "nbconvert_exporter": "python",
   "pygments_lexer": "ipython3",
   "version": "3.8.5"
  }
 },
 "nbformat": 4,
 "nbformat_minor": 4
}
